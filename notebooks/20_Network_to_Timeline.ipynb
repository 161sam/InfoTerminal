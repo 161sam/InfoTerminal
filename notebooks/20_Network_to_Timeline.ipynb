{
 "cells": [
  {
   "cell_type": "markdown",
   "id": "80551663",
   "metadata": {},
   "source": [
    "# Lab 20 · Network to Timeline\n",
    "\n",
    "We transform a synthetic packet capture into structured flow, DNS, and HTTP artefacts using SDK-like helpers before deriving a consolidated investigation timeline."
   ]
  },
  {
   "cell_type": "code",
   "execution_count": null,
   "id": "3b696cdb",
   "metadata": {},
   "outputs": [],
   "source": [
    "DRY_RUN = True\n",
    "from notebooks._utils.common import *\n",
    "\n",
    "DRY_RUN.value = True\n",
    "CLI_OK.value = shell_available('forensic-cli')\n",
    "LAB_ID = '20_network'\n",
    "LAB_ROOT = lab_root(LAB_ID)\n"
   ]
  },
  {
   "cell_type": "markdown",
   "id": "33681412",
   "metadata": {},
   "source": [
    "## Craft a deterministic pcap-like JSON sample\n",
    "\n",
    "The flows include TLS, DNS, and HTTP interactions to exercise the downstream parsers."
   ]
  },
  {
   "cell_type": "code",
   "execution_count": null,
   "id": "9f346375",
   "metadata": {},
   "outputs": [],
   "source": [
    "\n",
    "from pathlib import Path\n",
    "\n",
    "pcap_records = [\n",
    "    {\n",
    "        'type': 'flow',\n",
    "        'timestamp': '2024-01-01T09:00:00Z',\n",
    "        'src_ip': '10.0.0.10',\n",
    "        'src_port': 49512,\n",
    "        'dst_ip': '198.51.100.20',\n",
    "        'dst_port': 443,\n",
    "        'protocol': 'tcp',\n",
    "        'bytes_sent': 512,\n",
    "        'bytes_received': 2048,\n",
    "        'duration_ms': 350,\n",
    "    },\n",
    "    {\n",
    "        'type': 'flow',\n",
    "        'timestamp': '2024-01-01T09:00:02Z',\n",
    "        'src_ip': '10.0.0.10',\n",
    "        'src_port': 49513,\n",
    "        'dst_ip': '203.0.113.53',\n",
    "        'dst_port': 53,\n",
    "        'protocol': 'udp',\n",
    "        'bytes_sent': 128,\n",
    "        'bytes_received': 128,\n",
    "        'duration_ms': 40,\n",
    "    },\n",
    "    {\n",
    "        'type': 'dns',\n",
    "        'timestamp': '2024-01-01T09:00:02Z',\n",
    "        'query': 'example.internal',\n",
    "        'response': '203.0.113.53',\n",
    "        'rcode': 'NOERROR',\n",
    "    },\n",
    "    {\n",
    "        'type': 'flow',\n",
    "        'timestamp': '2024-01-01T09:00:05Z',\n",
    "        'src_ip': '10.0.0.10',\n",
    "        'src_port': 49514,\n",
    "        'dst_ip': '93.184.216.34',\n",
    "        'dst_port': 80,\n",
    "        'protocol': 'tcp',\n",
    "        'bytes_sent': 1024,\n",
    "        'bytes_received': 8192,\n",
    "        'duration_ms': 1020,\n",
    "    },\n",
    "    {\n",
    "        'type': 'http',\n",
    "        'timestamp': '2024-01-01T09:00:05Z',\n",
    "        'method': 'GET',\n",
    "        'host': 'example.com',\n",
    "        'uri': '/index.html',\n",
    "        'status': 200,\n",
    "        'user_agent': 'LabClient/1.0',\n",
    "    },\n",
    "]\n",
    "\n",
    "pcap_path = LAB_ROOT / 'inputs' / 'pcap.json'\n",
    "json_dump_sorted(pcap_records, pcap_path)\n",
    "pcap_path\n"
   ]
  },
  {
   "cell_type": "markdown",
   "id": "ae040e7d",
   "metadata": {},
   "source": [
    "## Derive network artefacts with SDK-first helpers\n",
    "\n",
    "The helpers emulate `analysis.network --pcap-json` behaviour by emitting deterministic JSON outputs."
   ]
  },
  {
   "cell_type": "code",
   "execution_count": null,
   "id": "18b25350",
   "metadata": {},
   "outputs": [],
   "source": [
    "\n",
    "from typing import Dict, List\n",
    "\n",
    "network_dir = LAB_ROOT / 'outputs' / 'network'\n",
    "network_dir.mkdir(parents=True, exist_ok=True)\n",
    "\n",
    "\n",
    "def _select(records: List[Dict], record_type: str) -> list[dict]:\n",
    "    subset = [r for r in records if r['type'] == record_type]\n",
    "    subset.sort(key=lambda item: tuple(item.get(key) for key in sorted(item.keys())))\n",
    "    return subset\n",
    "\n",
    "\n",
    "flows = _select(pcap_records, 'flow')\n",
    "dns_records = _select(pcap_records, 'dns')\n",
    "http_records = _select(pcap_records, 'http')\n",
    "\n",
    "flows_path = network_dir / 'flows.json'\n",
    "dns_path = network_dir / 'dns.json'\n",
    "http_path = network_dir / 'http.json'\n",
    "\n",
    "json_dump_sorted(flows, flows_path)\n",
    "json_dump_sorted(dns_records, dns_path)\n",
    "json_dump_sorted(http_records, http_path)\n",
    "flows_path, dns_path, http_path\n"
   ]
  },
  {
   "cell_type": "markdown",
   "id": "7fe8a35c",
   "metadata": {},
   "source": [
    "## Inspect generated artefacts\n",
    "\n",
    "Quick previews verify that the JSON outputs follow the expected schema and ordering."
   ]
  },
  {
   "cell_type": "code",
   "execution_count": null,
   "id": "03b32470",
   "metadata": {},
   "outputs": [],
   "source": [
    "\n",
    "print('flows.json\n",
    "', preview(flows_path))\n",
    "print('\n",
    "dns.json\n",
    "', preview(dns_path))\n",
    "print('\n",
    "http.json\n",
    "', preview(http_path))\n"
   ]
  },
  {
   "cell_type": "markdown",
   "id": "8c0379fc",
   "metadata": {},
   "source": [
    "## Build a consolidated timeline\n",
    "\n",
    "The timeline joins flow, DNS, and HTTP context into a single chronological view."
   ]
  },
  {
   "cell_type": "code",
   "execution_count": null,
   "id": "c5711321",
   "metadata": {},
   "outputs": [],
   "source": [
    "\n",
    "timeline_dir = LAB_ROOT / 'outputs' / 'timeline'\n",
    "timeline_dir.mkdir(parents=True, exist_ok=True)\n",
    "\n",
    "timeline_events = []\n",
    "for flow in flows:\n",
    "    timeline_events.append({\n",
    "        'timestamp': flow['timestamp'],\n",
    "        'event': 'network_flow',\n",
    "        'summary': f\"{flow['src_ip']}:{flow['src_port']} -> {flow['dst_ip']}:{flow['dst_port']} ({flow['protocol']})\",\n",
    "    })\n",
    "for dns in dns_records:\n",
    "    timeline_events.append({\n",
    "        'timestamp': dns['timestamp'],\n",
    "        'event': 'dns_query',\n",
    "        'summary': f\"{dns['query']} -> {dns['response']} ({dns['rcode']})\",\n",
    "    })\n",
    "for http in http_records:\n",
    "    timeline_events.append({\n",
    "        'timestamp': http['timestamp'],\n",
    "        'event': 'http_request',\n",
    "        'summary': f\"{http['method']} {http['host']}{http['uri']} {http['status']}\",\n",
    "    })\n",
    "\n",
    "timeline_events.sort(key=lambda item: (item['timestamp'], item['event']))\n",
    "\n",
    "timeline_json_path = timeline_dir / 'timeline.json'\n",
    "timeline_csv_path = timeline_dir / 'timeline.csv'\n",
    "json_dump_sorted({'events': timeline_events}, timeline_json_path)\n",
    "csv_rows = [(item['timestamp'], item['event'], item['summary']) for item in timeline_events]\n",
    "csv_write_rows_sorted(csv_rows, timeline_csv_path, header=('timestamp', 'event', 'summary'))\n",
    "timeline_events\n"
   ]
  },
  {
   "cell_type": "markdown",
   "id": "c7228670",
   "metadata": {},
   "source": [
    "## Visualise the timeline\n",
    "\n",
    "A simple scatter and stem plot highlights temporal ordering without extra styling."
   ]
  },
  {
   "cell_type": "code",
   "execution_count": null,
   "id": "1ffc240c",
   "metadata": {},
   "outputs": [],
   "source": [
    "\n",
    "from datetime import datetime\n",
    "import matplotlib.pyplot as plt\n",
    "\n",
    "times = [datetime.strptime(item['timestamp'], '%Y-%m-%dT%H:%M:%SZ') for item in timeline_events]\n",
    "positions = list(range(len(times)))\n",
    "\n",
    "plt.figure(figsize=(6, 3))\n",
    "plt.vlines(times, [0] * len(times), positions)\n",
    "plt.scatter(times, positions)\n",
    "plt.xlabel('Timestamp')\n",
    "plt.ylabel('Event index')\n",
    "plt.title('Network to Timeline progression')\n",
    "plt.tight_layout()\n",
    "plt.show()\n"
   ]
  },
  {
   "cell_type": "markdown",
   "id": "f8b4f592",
   "metadata": {},
   "source": [
    "## Optional CLI mirror\n",
    "\n",
    "When `forensic-cli` is present the same flow can be replayed via the command line."
   ]
  },
  {
   "cell_type": "code",
   "execution_count": null,
   "id": "463a8bf9",
   "metadata": {},
   "outputs": [],
   "source": [
    "\n",
    "if CLI_OK.value:\n",
    "    rc, out, err = run_cli(\n",
    "        ['forensic-cli', 'analysis', 'network', '--pcap-json', str(pcap_path)],\n",
    "        tolerate=True,\n",
    "    )\n",
    "    print('return code:', rc)\n",
    "    print(out or err)\n",
    "else:\n",
    "    print('CLI mirror skipped; forensic-cli not available in this environment.')\n"
   ]
  },
  {
   "cell_type": "markdown",
   "id": "d5d32196",
   "metadata": {},
   "source": [
    "## Checkpoint\n",
    "\n",
    "We assert that the derived artefacts exist to keep CI executions honest."
   ]
  },
  {
   "cell_type": "code",
   "execution_count": null,
   "id": "f8911d80",
   "metadata": {},
   "outputs": [],
   "source": [
    "\n",
    "assert flows_path.exists()\n",
    "assert timeline_csv_path.exists()\n",
    "len(timeline_events)\n"
   ]
  }
 ],
 "metadata": {
  "kernelspec": {
   "display_name": "Python 3",
   "language": "python",
   "name": "python3"
  },
  "language_info": {
   "name": "python",
   "version": "3.11"
  }
 },
 "nbformat": 4,
 "nbformat_minor": 5
}
