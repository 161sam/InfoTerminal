{
 "cells": [
  {
   "cell_type": "markdown",
   "id": "9f139dd9",
   "metadata": {},
   "source": [
    "# Lab 10 · Case Management and Chain of Custody\n",
    "\n",
    "This lab demonstrates how to model a minimal case workflow with synthetic data. We create a case via an SDK-inspired helper, register an evidence note, and review the resulting chain of custody entries as a pandas table."
   ]
  },
  {
   "cell_type": "code",
   "execution_count": null,
   "id": "fb9cfa5d",
   "metadata": {},
   "outputs": [],
   "source": [
    "DRY_RUN = True\n",
    "from notebooks._utils.common import *\n",
    "\n",
    "DRY_RUN.value = True\n",
    "CLI_OK.value = shell_available('forensic-cli')\n",
    "LAB_ID = '10_case'\n",
    "LAB_ROOT = lab_root(LAB_ID)\n"
   ]
  },
  {
   "cell_type": "markdown",
   "id": "809f6423",
   "metadata": {},
   "source": [
    "## SDK-style helper for deterministic case handling\n",
    "\n",
    "The helper stores structured JSON under `.labs/10_case/` so repeated runs remain deterministic."
   ]
  },
  {
   "cell_type": "code",
   "execution_count": null,
   "id": "a39f4334",
   "metadata": {},
   "outputs": [],
   "source": [
    "from dataclasses import dataclass, field\n",
    "import hashlib\n",
    "from pathlib import Path\n",
    "import pandas as pd\n",
    "\n",
    "@dataclass\n",
    "class MiniCaseSDK:\n",
    "    base: Path\n",
    "    investigator: str\n",
    "    coc: dict[str, list[dict]] = field(default_factory=dict)\n",
    "\n",
    "    def __post_init__(self) -> None:\n",
    "        self.case_dir = self.base / 'cases'\n",
    "        self.case_dir.mkdir(parents=True, exist_ok=True)\n",
    "        self.artifact_dir = self.base / 'artifacts'\n",
    "        self.artifact_dir.mkdir(parents=True, exist_ok=True)\n",
    "        self.coc_dir = self.base / 'coc'\n",
    "        self.coc_dir.mkdir(parents=True, exist_ok=True)\n",
    "\n",
    "    def create_case(self, case_id: str, description: str) -> dict:\n",
    "        created_at = _ts()\n",
    "        record = {\n",
    "            'case_id': case_id,\n",
    "            'created_at': created_at,\n",
    "            'investigator': self.investigator,\n",
    "            'description': description,\n",
    "            'status': 'open',\n",
    "        }\n",
    "        json_dump_sorted(record, self.case_dir / f'{case_id}.json')\n",
    "        entry = {\n",
    "            'timestamp': created_at,\n",
    "            'actor': self.investigator,\n",
    "            'action': 'case_created',\n",
    "            'artifact': 'n/a',\n",
    "        }\n",
    "        self.coc[case_id] = [entry]\n",
    "        self._flush_coc(case_id)\n",
    "        return record\n",
    "\n",
    "    def add_text_artifact(self, case_id: str, artifact_name: str, text: str) -> dict:\n",
    "        if case_id not in self.coc:\n",
    "            raise ValueError(f'Case {case_id} missing')\n",
    "        artifact_path = self.artifact_dir / artifact_name\n",
    "        artifact_path.write_text(text, encoding='utf-8')\n",
    "        digest = hashlib.sha256(text.encode('utf-8')).hexdigest()\n",
    "        entry = {\n",
    "            'timestamp': _ts(),\n",
    "            'actor': self.investigator,\n",
    "            'action': 'artifact_added',\n",
    "            'artifact': artifact_name,\n",
    "            'sha256': digest,\n",
    "        }\n",
    "        self.coc[case_id].append(entry)\n",
    "        self._flush_coc(case_id)\n",
    "        return {\n",
    "            'path': artifact_path,\n",
    "            'sha256': digest,\n",
    "        }\n",
    "\n",
    "    def get_chain_of_custody(self, case_id: str) -> list[dict]:\n",
    "        return list(self.coc.get(case_id, []))\n",
    "\n",
    "    def _flush_coc(self, case_id: str) -> None:\n",
    "        json_dump_sorted(\n",
    "            {\n",
    "                'case_id': case_id,\n",
    "                'entries': self.coc[case_id],\n",
    "            },\n",
    "            self.coc_dir / f'{case_id}.json',\n",
    "        )\n"
   ]
  },
  {
   "cell_type": "markdown",
   "id": "814a278e",
   "metadata": {},
   "source": [
    "## Create a deterministic case and add an artefact\n",
    "\n",
    "We capture both the case metadata and the artefact hash so the chain of custody remains reproducible."
   ]
  },
  {
   "cell_type": "code",
   "execution_count": null,
   "id": "1bc0f4f0",
   "metadata": {},
   "outputs": [],
   "source": [
    "sdk = MiniCaseSDK(base=LAB_ROOT, investigator='analyst@example.com')\n",
    "case_id = 'case-lab-001'\n",
    "case_record = sdk.create_case(case_id, description='Synthetic login anomaly review')\n",
    "artifact_details = sdk.add_text_artifact(\n",
    "    case_id,\n",
    "    artifact_name=f'{case_id}_note.txt',\n",
    "    text='Observed unusual access pattern from 203.0.113.10 at 09:02Z.',\n",
    ")\n",
    "case_record, artifact_details\n"
   ]
  },
  {
   "cell_type": "markdown",
   "id": "3750d388",
   "metadata": {},
   "source": [
    "## Review artefact preview and hash\n",
    "\n",
    "Hashes are essential for maintaining integrity during evidence handling."
   ]
  },
  {
   "cell_type": "code",
   "execution_count": null,
   "id": "5fd76e72",
   "metadata": {},
   "outputs": [],
   "source": [
    "print('Artefact preview:')\n",
    "print(preview(artifact_details['path']))\n",
    "print('\n",
    "SHA256:', artifact_details['sha256'])\n"
   ]
  },
  {
   "cell_type": "markdown",
   "id": "29b0b5ca",
   "metadata": {},
   "source": [
    "## Display chain of custody entries\n",
    "\n",
    "We render the entries with pandas to obtain a clean tabular view."
   ]
  },
  {
   "cell_type": "code",
   "execution_count": null,
   "id": "f4650664",
   "metadata": {},
   "outputs": [],
   "source": [
    "coc_entries = sdk.get_chain_of_custody(case_id)\n",
    "coc_df = pd.DataFrame(coc_entries)\n",
    "coc_df\n"
   ]
  },
  {
   "cell_type": "markdown",
   "id": "92f08aed",
   "metadata": {},
   "source": [
    "## Optional CLI mirror\n",
    "\n",
    "If the `forensic-cli` is installed locally, mirror the inspection of the case ledger."
   ]
  },
  {
   "cell_type": "code",
   "execution_count": null,
   "id": "2ad2e065",
   "metadata": {},
   "outputs": [],
   "source": [
    "if CLI_OK.value:\n",
    "    rc, out, err = run_cli(\n",
    "        ['forensic-cli', 'case', 'show', '--case-id', case_id],\n",
    "        tolerate=True,\n",
    "    )\n",
    "    print('return code:', rc)\n",
    "    print(out or err)\n",
    "else:\n",
    "    print('CLI mirror skipped; forensic-cli not available in this environment.')\n"
   ]
  },
  {
   "cell_type": "markdown",
   "id": "05d33207",
   "metadata": {},
   "source": [
    "## Checkpoint\n",
    "\n",
    "Ensure that both the artefact and the chain-of-custody ledger are present. This guard helps when running inside CI."
   ]
  },
  {
   "cell_type": "code",
   "execution_count": null,
   "id": "a60b6d77",
   "metadata": {},
   "outputs": [],
   "source": [
    "assert artifact_details['path'].exists()\n",
    "assert (LAB_ROOT / 'coc' / f'{case_id}.json').exists()\n",
    "len(coc_entries)\n"
   ]
  }
 ],
 "metadata": {
  "kernelspec": {
   "display_name": "Python 3",
   "language": "python",
   "name": "python3"
  },
  "language_info": {
   "name": "python",
   "version": "3.11"
  }
 },
 "nbformat": 4,
 "nbformat_minor": 5
}
